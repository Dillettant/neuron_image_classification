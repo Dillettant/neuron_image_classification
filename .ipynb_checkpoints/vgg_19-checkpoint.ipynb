{
 "cells": [
  {
   "cell_type": "code",
   "execution_count": 1,
   "metadata": {},
   "outputs": [
    {
     "name": "stderr",
     "output_type": "stream",
     "text": [
      "Using TensorFlow backend.\n"
     ]
    }
   ],
   "source": [
    "import os\n",
    "os.environ[\"CUDA_DEVICE_ORDER\"] = \"PCI_BUS_ID\"\n",
    "os.environ[\"CUDA_VISIBLE_DEVICES\"] = \"0\"\n",
    "\n",
    "import tensorflow as tf\n",
    "import keras.backend.tensorflow_backend as KTF\n",
    "\n",
    "def get_session(gpu_fraction=0.3):\n",
    "    '''Assume that you have 6GB of GPU memory and want to allocate ~2GB'''\n",
    "    num_threads = os.environ.get('OMP_NUM_THREADS')\n",
    "    gpu_options = tf.GPUOptions(per_process_gpu_memory_fraction=gpu_fraction)\n",
    "\n",
    "    if num_threads:\n",
    "        return tf.Session(config=tf.ConfigProto(\n",
    "            gpu_options=gpu_options, intra_op_parallelism_threads=num_threads))\n",
    "    else:\n",
    "        return tf.Session(config=tf.ConfigProto(gpu_options=gpu_options))\n",
    "\n",
    "KTF.set_session(get_session(0.5))"
   ]
  },
  {
   "cell_type": "code",
   "execution_count": 2,
   "metadata": {
    "collapsed": true
   },
   "outputs": [],
   "source": [
    "import keras\n",
    "from keras.preprocessing.image import ImageDataGenerator\n",
    "from keras.models import Sequential\n",
    "from keras.layers import Dense, Dropout, Activation, Flatten\n",
    "from keras.layers import Conv2D, MaxPooling2D\n",
    "from keras.layers import Input\n",
    "from keras.models import Model\n",
    "\n",
    "from keras.layers import ZeroPadding2D,Convolution2D\n",
    "import numpy as np\n",
    "\n",
    "import os"
   ]
  },
  {
   "cell_type": "code",
   "execution_count": 3,
   "metadata": {
    "collapsed": true
   },
   "outputs": [],
   "source": [
    "batch_size = 16\n",
    "num_classes = 3\n",
    "epochs = 100\n",
    "\n",
    "# num_predictions = 20\n",
    "save_dir = os.path.join(os.getcwd(), 'saved_models')\n",
    "model_name = 'keras_neuron_classification_trained_model.h5'"
   ]
  },
  {
   "cell_type": "code",
   "execution_count": 4,
   "metadata": {},
   "outputs": [
    {
     "name": "stderr",
     "output_type": "stream",
     "text": [
      "/home/edward/anaconda2/lib/python2.7/site-packages/sklearn/cross_validation.py:41: DeprecationWarning: This module was deprecated in version 0.18 in favor of the model_selection module into which all the refactored classes and functions are moved. Also note that the interface of the new CV iterators are different from that of this module. This module will be removed in 0.20.\n",
      "  \"This module will be removed in 0.20.\", DeprecationWarning)\n"
     ]
    },
    {
     "name": "stdout",
     "output_type": "stream",
     "text": [
      "(221, 256, 256, 2) (56, 256, 256, 2) (221, 1) (56, 1)\n"
     ]
    }
   ],
   "source": [
    "# write a function to select x_train y_train x_test y_test\n",
    "data_x = np.load('image_data_256x256.npy')\n",
    "data_y = np.load('labels.npy')\n",
    "data_x = np.swapaxes(np.swapaxes(data_x,1,2),2,3)\n",
    "data_y = np.array([data_y]).T\n",
    "\n",
    "from sklearn.cross_validation import train_test_split\n",
    "x_train, x_test, y_train, y_test = train_test_split(data_x, data_y, test_size=0.2)\n",
    "\n",
    "print x_train.shape, x_test.shape, y_train.shape, y_test.shape\n",
    "# shuffle the data\n",
    "# select 20% as the test data and 80% as the training data\n",
    "# np.random.choice(len(data_x), len(data_x) * 0.2, replace=False)"
   ]
  },
  {
   "cell_type": "code",
   "execution_count": 5,
   "metadata": {},
   "outputs": [
    {
     "name": "stdout",
     "output_type": "stream",
     "text": [
      "(221, 256, 256, 2) (56, 256, 256, 2) (221, 3) (56, 3)\n"
     ]
    }
   ],
   "source": [
    "# Convert class vectors to binary class matrices.\n",
    "y_train = keras.utils.to_categorical(y_train, num_classes)\n",
    "y_test = keras.utils.to_categorical(y_test, num_classes)\n",
    "print x_train.shape, x_test.shape, y_train.shape, y_test.shape"
   ]
  },
  {
   "cell_type": "code",
   "execution_count": 6,
   "metadata": {},
   "outputs": [
    {
     "name": "stderr",
     "output_type": "stream",
     "text": [
      "/home/edward/anaconda2/lib/python2.7/site-packages/ipykernel_launcher.py:38: UserWarning: Update your `ZeroPadding2D` call to the Keras 2 API: `ZeroPadding2D(padding=(1, 1), data_format=\"channels_first\")`\n",
      "/home/edward/anaconda2/lib/python2.7/site-packages/ipykernel_launcher.py:42: UserWarning: Update your `Conv2D` call to the Keras 2 API: `Conv2D(16, (3, 3), padding=\"same\", activation=\"relu\", data_format=\"channels_first\")`\n",
      "/home/edward/anaconda2/lib/python2.7/site-packages/ipykernel_launcher.py:43: UserWarning: Update your `ZeroPadding2D` call to the Keras 2 API: `ZeroPadding2D(padding=(1, 1), data_format=\"channels_first\")`\n",
      "/home/edward/anaconda2/lib/python2.7/site-packages/ipykernel_launcher.py:47: UserWarning: Update your `Conv2D` call to the Keras 2 API: `Conv2D(16, (3, 3), padding=\"same\", activation=\"relu\", data_format=\"channels_first\")`\n",
      "/home/edward/anaconda2/lib/python2.7/site-packages/ipykernel_launcher.py:51: UserWarning: Update your `ZeroPadding2D` call to the Keras 2 API: `ZeroPadding2D(padding=(1, 1), data_format=\"channels_first\")`\n",
      "/home/edward/anaconda2/lib/python2.7/site-packages/ipykernel_launcher.py:55: UserWarning: Update your `Conv2D` call to the Keras 2 API: `Conv2D(128, (3, 3), padding=\"same\", activation=\"relu\", data_format=\"channels_first\")`\n",
      "/home/edward/anaconda2/lib/python2.7/site-packages/ipykernel_launcher.py:56: UserWarning: Update your `ZeroPadding2D` call to the Keras 2 API: `ZeroPadding2D(padding=(1, 1), data_format=\"channels_first\")`\n",
      "/home/edward/anaconda2/lib/python2.7/site-packages/ipykernel_launcher.py:60: UserWarning: Update your `Conv2D` call to the Keras 2 API: `Conv2D(128, (3, 3), padding=\"same\", activation=\"relu\", data_format=\"channels_first\")`\n",
      "/home/edward/anaconda2/lib/python2.7/site-packages/ipykernel_launcher.py:64: UserWarning: Update your `ZeroPadding2D` call to the Keras 2 API: `ZeroPadding2D(padding=(1, 1), data_format=\"channels_first\")`\n",
      "/home/edward/anaconda2/lib/python2.7/site-packages/ipykernel_launcher.py:68: UserWarning: Update your `Conv2D` call to the Keras 2 API: `Conv2D(256, (3, 3), padding=\"same\", activation=\"relu\", data_format=\"channels_first\")`\n",
      "/home/edward/anaconda2/lib/python2.7/site-packages/ipykernel_launcher.py:69: UserWarning: Update your `ZeroPadding2D` call to the Keras 2 API: `ZeroPadding2D(padding=(1, 1), data_format=\"channels_first\")`\n",
      "/home/edward/anaconda2/lib/python2.7/site-packages/ipykernel_launcher.py:73: UserWarning: Update your `Conv2D` call to the Keras 2 API: `Conv2D(256, (3, 3), padding=\"same\", activation=\"relu\", data_format=\"channels_first\")`\n",
      "/home/edward/anaconda2/lib/python2.7/site-packages/ipykernel_launcher.py:74: UserWarning: Update your `ZeroPadding2D` call to the Keras 2 API: `ZeroPadding2D(padding=(1, 1), data_format=\"channels_first\")`\n",
      "/home/edward/anaconda2/lib/python2.7/site-packages/ipykernel_launcher.py:78: UserWarning: Update your `Conv2D` call to the Keras 2 API: `Conv2D(256, (3, 3), padding=\"same\", activation=\"relu\", data_format=\"channels_first\")`\n",
      "/home/edward/anaconda2/lib/python2.7/site-packages/ipykernel_launcher.py:79: UserWarning: Update your `ZeroPadding2D` call to the Keras 2 API: `ZeroPadding2D(padding=(1, 1), data_format=\"channels_first\")`\n",
      "/home/edward/anaconda2/lib/python2.7/site-packages/ipykernel_launcher.py:83: UserWarning: Update your `Conv2D` call to the Keras 2 API: `Conv2D(256, (3, 3), padding=\"same\", activation=\"relu\", data_format=\"channels_first\")`\n",
      "/home/edward/anaconda2/lib/python2.7/site-packages/ipykernel_launcher.py:87: UserWarning: Update your `ZeroPadding2D` call to the Keras 2 API: `ZeroPadding2D(padding=(1, 1), data_format=\"channels_first\")`\n",
      "/home/edward/anaconda2/lib/python2.7/site-packages/ipykernel_launcher.py:91: UserWarning: Update your `Conv2D` call to the Keras 2 API: `Conv2D(512, (3, 3), padding=\"same\", activation=\"relu\", data_format=\"channels_first\")`\n",
      "/home/edward/anaconda2/lib/python2.7/site-packages/ipykernel_launcher.py:92: UserWarning: Update your `ZeroPadding2D` call to the Keras 2 API: `ZeroPadding2D(padding=(1, 1), data_format=\"channels_first\")`\n",
      "/home/edward/anaconda2/lib/python2.7/site-packages/ipykernel_launcher.py:96: UserWarning: Update your `Conv2D` call to the Keras 2 API: `Conv2D(512, (3, 3), padding=\"same\", activation=\"relu\", data_format=\"channels_first\")`\n",
      "/home/edward/anaconda2/lib/python2.7/site-packages/ipykernel_launcher.py:97: UserWarning: Update your `ZeroPadding2D` call to the Keras 2 API: `ZeroPadding2D(padding=(1, 1), data_format=\"channels_first\")`\n",
      "/home/edward/anaconda2/lib/python2.7/site-packages/ipykernel_launcher.py:101: UserWarning: Update your `Conv2D` call to the Keras 2 API: `Conv2D(512, (3, 3), padding=\"same\", activation=\"relu\", data_format=\"channels_first\")`\n",
      "/home/edward/anaconda2/lib/python2.7/site-packages/ipykernel_launcher.py:102: UserWarning: Update your `ZeroPadding2D` call to the Keras 2 API: `ZeroPadding2D(padding=(1, 1), data_format=\"channels_first\")`\n",
      "/home/edward/anaconda2/lib/python2.7/site-packages/ipykernel_launcher.py:106: UserWarning: Update your `Conv2D` call to the Keras 2 API: `Conv2D(512, (3, 3), padding=\"same\", activation=\"relu\", data_format=\"channels_first\")`\n"
     ]
    }
   ],
   "source": [
    "# define the model \n",
    "# CNN structure\n",
    "# model = Sequential()\n",
    "# model.add(Conv2D(8, (3, 3), padding='same',\n",
    "#                  input_shape=x_train.shape[1:]))\n",
    "# model.add(Activation('relu'))\n",
    "# model.add(Conv2D(8, (3, 3)))\n",
    "# model.add(Activation('relu'))\n",
    "# model.add(MaxPooling2D(pool_size=(2, 2)))\n",
    "# model.add(Dropout(0.25))\n",
    "\n",
    "# model.add(Conv2D(16, (3, 3), padding='same'))\n",
    "# model.add(Activation('relu'))\n",
    "# model.add(Conv2D(16, (3, 3)))\n",
    "# model.add(Activation('relu'))\n",
    "# model.add(MaxPooling2D(pool_size=(2, 2)))\n",
    "# model.add(Dropout(0.25))\n",
    "\n",
    "# model.add(Flatten())\n",
    "# model.add(Dense(256))\n",
    "# model.add(Activation('relu'))\n",
    "# model.add(Dropout(0.5))\n",
    "# model.add(Dense(num_classes))\n",
    "# model.add(Activation('softmax'))\n",
    "\n",
    "img_input = Input(shape = (256, 256, 2))\n",
    "DIM_ORDERING = \"th\"\n",
    "\n",
    "if DIM_ORDERING == 'tf':\n",
    "    x_train = np.transpose(x_train.astype('float32') / 255., (0, 2, 3, 1))\n",
    "    x_test = np.transpose(x_test.astype('float32') / 255., (0, 2, 3, 1))\n",
    "\n",
    "if DIM_ORDERING == 'th':\n",
    "    x_train = x_train.astype('float32') / 255.\n",
    "    x_test = x_test.astype('float32') / 255.\n",
    "\n",
    "# Layer Cluster - 1\n",
    "x = ZeroPadding2D(padding=(1, 1), dim_ordering=DIM_ORDERING)(img_input)\n",
    "x = Convolution2D(16, 3, 3,\n",
    "                  activation='relu',\n",
    "                  border_mode='same',\n",
    "                  dim_ordering=DIM_ORDERING)(x)\n",
    "x = ZeroPadding2D(padding=(1, 1), dim_ordering=DIM_ORDERING)(x)\n",
    "x = Convolution2D(16, 3, 3,\n",
    "                  activation='relu',\n",
    "                  border_mode='same',\n",
    "                  dim_ordering=DIM_ORDERING)(x)\n",
    "x = MaxPooling2D((2, 2), strides=(2, 2))(x)\n",
    "\n",
    "# Layer Cluster - 2\n",
    "x = ZeroPadding2D(padding=(1, 1), dim_ordering=DIM_ORDERING)(x)\n",
    "x = Convolution2D(128, 3, 3,\n",
    "                  activation='relu',\n",
    "                  border_mode='same',\n",
    "                  dim_ordering=DIM_ORDERING)(x)\n",
    "x = ZeroPadding2D(padding=(1, 1), dim_ordering=DIM_ORDERING)(x)\n",
    "x = Convolution2D(128, 3, 3,\n",
    "                  activation='relu',\n",
    "                  border_mode='same',\n",
    "                  dim_ordering=DIM_ORDERING)(x)\n",
    "x = MaxPooling2D((2, 2), strides=(2, 2))(x)\n",
    "\n",
    "# Layer Cluster - 3\n",
    "x = ZeroPadding2D(padding=(1, 1), dim_ordering=DIM_ORDERING)(x)\n",
    "x = Convolution2D(256, 3, 3,\n",
    "                  activation='relu',\n",
    "                  border_mode='same',\n",
    "                  dim_ordering=DIM_ORDERING)(x)\n",
    "x = ZeroPadding2D(padding=(1, 1), dim_ordering=DIM_ORDERING)(x)\n",
    "x = Convolution2D(256, 3, 3,\n",
    "                  activation='relu',\n",
    "                  border_mode='same',\n",
    "                  dim_ordering=DIM_ORDERING)(x)\n",
    "x = ZeroPadding2D(padding=(1, 1), dim_ordering=DIM_ORDERING)(x)\n",
    "x = Convolution2D(256, 3, 3,\n",
    "                  activation='relu',\n",
    "                  border_mode='same',\n",
    "                  dim_ordering=DIM_ORDERING)(x)\n",
    "x = ZeroPadding2D(padding=(1, 1), dim_ordering=DIM_ORDERING)(x)\n",
    "x = Convolution2D(256, 3, 3,\n",
    "                  activation='relu',\n",
    "                  border_mode='same',\n",
    "                  dim_ordering=DIM_ORDERING)(x)\n",
    "x = MaxPooling2D((2, 2), strides=(2, 2))(x)\n",
    "\n",
    "# Layer Cluster - 4\n",
    "x = ZeroPadding2D(padding=(1, 1), dim_ordering=DIM_ORDERING)(x)\n",
    "x = Convolution2D(512, 3, 3,\n",
    "                  activation='relu',\n",
    "                  border_mode='same',\n",
    "                  dim_ordering=DIM_ORDERING)(x)\n",
    "x = ZeroPadding2D(padding=(1, 1), dim_ordering=DIM_ORDERING)(x)\n",
    "x = Convolution2D(512, 3, 3,\n",
    "                  activation='relu',\n",
    "                  border_mode='same',\n",
    "                  dim_ordering=DIM_ORDERING)(x)\n",
    "x = ZeroPadding2D(padding=(1, 1), dim_ordering=DIM_ORDERING)(x)\n",
    "x = Convolution2D(512, 3, 3,\n",
    "                  activation='relu',\n",
    "                  border_mode='same',\n",
    "                  dim_ordering=DIM_ORDERING)(x)\n",
    "x = ZeroPadding2D(padding=(1, 1), dim_ordering=DIM_ORDERING)(x)\n",
    "x = Convolution2D(512, 3, 3,\n",
    "                  activation='relu',\n",
    "                  border_mode='same',\n",
    "                  dim_ordering=DIM_ORDERING)(x)\n",
    "x = MaxPooling2D((2, 2), strides=(2, 2))(x)\n",
    "\n",
    "# Layer Cluster - 5 - Output Layer\n",
    "x = Flatten()(x)\n",
    "x = Dense(num_classes, activation='relu')(x)\n",
    "x = Dropout(0.5)(x)\n",
    "x = Dense(num_classes, activation='relu')(x)\n",
    "x = Dropout(0.5)(x)\n",
    "x = Dense(num_classes, activation='softmax')(x)"
   ]
  },
  {
   "cell_type": "code",
   "execution_count": 7,
   "metadata": {
    "collapsed": true
   },
   "outputs": [],
   "source": [
    "model = Model(inputs = img_input, outputs = x)\n",
    "model.compile(optimizer='rmsprop', loss='categorical_crossentropy')"
   ]
  },
  {
   "cell_type": "code",
   "execution_count": null,
   "metadata": {
    "scrolled": true
   },
   "outputs": [
    {
     "name": "stdout",
     "output_type": "stream",
     "text": [
      "Not using data augmentation.\n",
      "Train on 221 samples, validate on 56 samples\n",
      "Epoch 1/100\n"
     ]
    }
   ],
   "source": [
    "data_augmentation = False\n",
    "\n",
    "if not data_augmentation:\n",
    "    print('Not using data augmentation.')\n",
    "    model.fit(x_train, y_train,\n",
    "              batch_size=batch_size,\n",
    "              epochs=epochs,\n",
    "              validation_data=(x_test, y_test),\n",
    "              shuffle=True)\n",
    "else:\n",
    "    print('Using real-time data augmentation.')\n",
    "    # This will do preprocessing and realtime data augmentation:\n",
    "    datagen = ImageDataGenerator(\n",
    "        featurewise_center=False,  # set input mean to 0 over the dataset\n",
    "        samplewise_center=False,  # set each sample mean to 0\n",
    "        featurewise_std_normalization=False,  # divide inputs by std of the dataset\n",
    "        samplewise_std_normalization=False,  # divide each input by its std\n",
    "        zca_whitening=False,  # apply ZCA whitening\n",
    "        rotation_range=0,  # randomly rotate images in the range (degrees, 0 to 180)\n",
    "        width_shift_range=0.1,  # randomly shift images horizontally (fraction of total width)\n",
    "        height_shift_range=0.1,  # randomly shift images vertically (fraction of total height)\n",
    "        horizontal_flip=True,  # randomly flip images\n",
    "        vertical_flip=False)  # randomly flip images\n",
    "\n",
    "    # Compute quantities required for feature-wise normalization\n",
    "    # (std, mean, and principal components if ZCA whitening is applied).\n",
    "    datagen.fit(x_train)\n",
    "\n",
    "    # Fit the model on the batches generated by datagen.flow().\n",
    "    model.fit_generator(datagen.flow(x_train, y_train,\n",
    "                                     batch_size=batch_size),\n",
    "                        steps_per_epoch=x_train.shape[0] // batch_size,\n",
    "                        epochs=epochs,\n",
    "                        validation_data=(x_test, y_test),\n",
    "                        workers=4)"
   ]
  },
  {
   "cell_type": "code",
   "execution_count": null,
   "metadata": {
    "collapsed": true
   },
   "outputs": [],
   "source": []
  }
 ],
 "metadata": {
  "kernelspec": {
   "display_name": "Python 2",
   "language": "python",
   "name": "python2"
  },
  "language_info": {
   "codemirror_mode": {
    "name": "ipython",
    "version": 2
   },
   "file_extension": ".py",
   "mimetype": "text/x-python",
   "name": "python",
   "nbconvert_exporter": "python",
   "pygments_lexer": "ipython2",
   "version": "2.7.13"
  }
 },
 "nbformat": 4,
 "nbformat_minor": 2
}
