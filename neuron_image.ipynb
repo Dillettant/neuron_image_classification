{
 "cells": [
  {
   "cell_type": "code",
   "execution_count": 1,
   "metadata": {},
   "outputs": [
    {
     "name": "stderr",
     "output_type": "stream",
     "text": [
      "Using TensorFlow backend.\n"
     ]
    }
   ],
   "source": [
    "import os\n",
    "os.environ[\"CUDA_DEVICE_ORDER\"] = \"PCI_BUS_ID\"\n",
    "os.environ[\"CUDA_VISIBLE_DEVICES\"] = \"0\"\n",
    "\n",
    "import tensorflow as tf\n",
    "import keras.backend.tensorflow_backend as KTF\n",
    "\n",
    "def get_session(gpu_fraction=0.3):\n",
    "    '''Assume that you have 6GB of GPU memory and want to allocate ~2GB'''\n",
    "    num_threads = os.environ.get('OMP_NUM_THREADS')\n",
    "    gpu_options = tf.GPUOptions(per_process_gpu_memory_fraction=gpu_fraction)\n",
    "\n",
    "    if num_threads:\n",
    "        return tf.Session(config=tf.ConfigProto(\n",
    "            gpu_options=gpu_options, intra_op_parallelism_threads=num_threads))\n",
    "    else:\n",
    "        return tf.Session(config=tf.ConfigProto(gpu_options=gpu_options))\n",
    "\n",
    "KTF.set_session(get_session(0.5))"
   ]
  },
  {
   "cell_type": "code",
   "execution_count": 2,
   "metadata": {
    "collapsed": true
   },
   "outputs": [],
   "source": [
    "import keras\n",
    "from keras.preprocessing.image import ImageDataGenerator\n",
    "from keras.models import Sequential\n",
    "from keras.layers import Dense, Dropout, Activation, Flatten\n",
    "from keras.layers import Conv2D, MaxPooling2D\n",
    "import numpy as np\n",
    "\n",
    "import os"
   ]
  },
  {
   "cell_type": "code",
   "execution_count": 3,
   "metadata": {
    "collapsed": true
   },
   "outputs": [],
   "source": [
    "num_classes = 3\n",
    "image_shape = (256,256,2)\n",
    "# num_predictions = 20\n",
    "save_dir = os.path.join(os.getcwd(), 'saved_models')\n",
    "model_name = 'keras_neuron_classification_trained_model.h5'"
   ]
  },
  {
   "cell_type": "code",
   "execution_count": 4,
   "metadata": {
    "collapsed": true
   },
   "outputs": [],
   "source": [
    "# write a function to select x_train y_train x_test y_test\n",
    "data_x = np.load('image_data_256x256.npy')\n",
    "data_y = np.load('labels.npy')\n",
    "\n",
    "# concatenate together and shuffle the data\n",
    "data_x = np.swapaxes(np.swapaxes(data_x,1,2),2,3)\n",
    "data_y = np.array([data_y]).T\n",
    "\n",
    "# shuffle the data first\n",
    "from sklearn.utils import shuffle\n",
    "data_x, data_y = shuffle(data_x, data_y)"
   ]
  },
  {
   "cell_type": "code",
   "execution_count": 5,
   "metadata": {
    "collapsed": true
   },
   "outputs": [],
   "source": [
    "# define the model \n",
    "# CNN structure\n",
    "model = Sequential()\n",
    "model.add(Conv2D(16, (3, 3), padding='same',\n",
    "                 input_shape=image_shape))\n",
    "model.add(Activation('relu'))\n",
    "model.add(Conv2D(16, (3, 3)))\n",
    "model.add(Activation('relu'))\n",
    "model.add(MaxPooling2D(pool_size=(2, 2)))\n",
    "model.add(Dropout(0.25))\n",
    "\n",
    "model.add(Conv2D(64, (3, 3), padding='same'))\n",
    "model.add(Activation('relu'))\n",
    "model.add(Conv2D(64, (3, 3)))\n",
    "model.add(Activation('relu'))\n",
    "model.add(MaxPooling2D(pool_size=(2, 2)))\n",
    "model.add(Dropout(0.25))\n",
    "\n",
    "model.add(Flatten())\n",
    "model.add(Dense(256))\n",
    "model.add(Activation('relu'))\n",
    "model.add(Dropout(0.5))\n",
    "model.add(Dense(num_classes))\n",
    "model.add(Activation('softmax'))"
   ]
  },
  {
   "cell_type": "code",
   "execution_count": 6,
   "metadata": {},
   "outputs": [
    {
     "name": "stdout",
     "output_type": "stream",
     "text": [
      "_________________________________________________________________\n",
      "Layer (type)                 Output Shape              Param #   \n",
      "=================================================================\n",
      "conv2d_1 (Conv2D)            (None, 256, 256, 16)      304       \n",
      "_________________________________________________________________\n",
      "activation_1 (Activation)    (None, 256, 256, 16)      0         \n",
      "_________________________________________________________________\n",
      "conv2d_2 (Conv2D)            (None, 254, 254, 16)      2320      \n",
      "_________________________________________________________________\n",
      "activation_2 (Activation)    (None, 254, 254, 16)      0         \n",
      "_________________________________________________________________\n",
      "max_pooling2d_1 (MaxPooling2 (None, 127, 127, 16)      0         \n",
      "_________________________________________________________________\n",
      "dropout_1 (Dropout)          (None, 127, 127, 16)      0         \n",
      "_________________________________________________________________\n",
      "conv2d_3 (Conv2D)            (None, 127, 127, 64)      9280      \n",
      "_________________________________________________________________\n",
      "activation_3 (Activation)    (None, 127, 127, 64)      0         \n",
      "_________________________________________________________________\n",
      "conv2d_4 (Conv2D)            (None, 125, 125, 64)      36928     \n",
      "_________________________________________________________________\n",
      "activation_4 (Activation)    (None, 125, 125, 64)      0         \n",
      "_________________________________________________________________\n",
      "max_pooling2d_2 (MaxPooling2 (None, 62, 62, 64)        0         \n",
      "_________________________________________________________________\n",
      "dropout_2 (Dropout)          (None, 62, 62, 64)        0         \n",
      "_________________________________________________________________\n",
      "flatten_1 (Flatten)          (None, 246016)            0         \n",
      "_________________________________________________________________\n",
      "dense_1 (Dense)              (None, 256)               62980352  \n",
      "_________________________________________________________________\n",
      "activation_5 (Activation)    (None, 256)               0         \n",
      "_________________________________________________________________\n",
      "dropout_3 (Dropout)          (None, 256)               0         \n",
      "_________________________________________________________________\n",
      "dense_2 (Dense)              (None, 3)                 771       \n",
      "_________________________________________________________________\n",
      "activation_6 (Activation)    (None, 3)                 0         \n",
      "=================================================================\n",
      "Total params: 63,029,955\n",
      "Trainable params: 63,029,955\n",
      "Non-trainable params: 0\n",
      "_________________________________________________________________\n"
     ]
    }
   ],
   "source": [
    "# initiate RMSprop optimizer\n",
    "opt = keras.optimizers.rmsprop(lr=0.0001, decay=1e-6)\n",
    "\n",
    "# Let's train the model using RMSprop\n",
    "model.compile(loss='categorical_crossentropy',\n",
    "              optimizer=opt,\n",
    "              metrics=['accuracy'])\n",
    "model.summary()"
   ]
  },
  {
   "cell_type": "code",
   "execution_count": 12,
   "metadata": {
    "collapsed": true
   },
   "outputs": [],
   "source": [
    "cross_validation = True\n",
    "data_augmentation = True\n",
    "batch_size = 10\n",
    "epochs = 5000"
   ]
  },
  {
   "cell_type": "code",
   "execution_count": 13,
   "metadata": {},
   "outputs": [
    {
     "name": "stdout",
     "output_type": "stream",
     "text": [
      "Train size: (249,), Test size: (28,)\n",
      "Train size: (249,), Test size: (28,)\n",
      "Train size: (249,), Test size: (28,)\n",
      "Train size: (249,), Test size: (28,)\n",
      "Train size: (249,), Test size: (28,)\n",
      "Train size: (249,), Test size: (28,)\n",
      "Train size: (249,), Test size: (28,)\n",
      "Train size: (250,), Test size: (27,)\n",
      "Train size: (250,), Test size: (27,)\n",
      "Train size: (250,), Test size: (27,)\n",
      "Cross validation data has been split!\n"
     ]
    }
   ],
   "source": [
    "from sklearn.cross_validation import train_test_split\n",
    "from sklearn.model_selection import KFold\n",
    "test_set_size = 0.2\n",
    "val_set_size = 0.2\n",
    "cv_split_size = 10\n",
    "\n",
    "processed_data = []\n",
    "if cross_validation:\n",
    "    all_index = [_ for _ in range(len(data_x))]\n",
    "    # cross-validataion data set\n",
    "    kf = KFold(n_splits=cv_split_size)\n",
    "    \n",
    "    for train, test in kf.split(all_index):\n",
    "        print(\"Train size: {}, Test size: {}\".format(train.shape, test.shape))\n",
    "        x_train = data_x[train]\n",
    "        y_train = data_y[train]\n",
    "        x_test = data_x[test]\n",
    "        y_test = data_y[test]\n",
    "\n",
    "        x_train, x_val, y_train, y_val = train_test_split(x_train, y_train, test_size=val_set_size)\n",
    "        # Convert class vectors to binary class matrices.\n",
    "        y_train = keras.utils.to_categorical(y_train, num_classes)\n",
    "        y_val = keras.utils.to_categorical(y_val, num_classes)\n",
    "        y_test = keras.utils.to_categorical(y_test, num_classes)\n",
    "\n",
    "        x_train = x_train.astype('float32')\n",
    "        x_val = x_val.astype('float32')\n",
    "        x_test = x_test.astype('float32')\n",
    "        x_train /= 255\n",
    "        x_val /= 255\n",
    "        x_test /= 255\n",
    "\n",
    "        processed_data.append([(x_train,y_train),(x_val, y_val),(x_test, y_test)])\n",
    "    print \"Cross validation data has been split!\"\n",
    "else:\n",
    "    # to set the train:validation:test = 0.6:0.2:0.2\n",
    "    x_train, x_test, y_train, y_test = train_test_split(data_x, data_y, test_size=test_set_size)\n",
    "    x_train, x_val, y_train, y_val = train_test_split(x_train, y_train, test_size=val_set_size)\n",
    "    # Convert class vectors to binary class matrices.\n",
    "    y_train = keras.utils.to_categorical(y_train, num_classes)\n",
    "    y_val = keras.utils.to_categorical(y_val, num_classes)\n",
    "    y_test = keras.utils.to_categorical(y_test, num_classes)\n",
    "\n",
    "    x_train = x_train.astype('float32')\n",
    "    x_val = x_val.astype('float32')\n",
    "    x_test = x_test.astype('float32')\n",
    "    x_train /= 255\n",
    "    x_val /= 255\n",
    "    x_test /= 255\n",
    "    processed_data.append([(x_train,y_train),(x_val, y_val),(x_test, y_test)])\n",
    "    print \"Data has been split!\""
   ]
  },
  {
   "cell_type": "code",
   "execution_count": 14,
   "metadata": {},
   "outputs": [
    {
     "name": "stdout",
     "output_type": "stream",
     "text": [
      "10\n"
     ]
    }
   ],
   "source": [
    "print len(processed_data)"
   ]
  },
  {
   "cell_type": "code",
   "execution_count": 15,
   "metadata": {
    "collapsed": true
   },
   "outputs": [],
   "source": [
    "# trainging and test process\n",
    "def learn_and_test(x_train, y_train,\n",
    "                  x_val, y_val,\n",
    "                  x_test, y_test):    \n",
    "    if not data_augmentation:\n",
    "        print('Not using data augmentation.')\n",
    "        for _ in range(epochs):\n",
    "            model.fit(x_train, y_train,\n",
    "                  batch_size=batch_size,\n",
    "                  epochs=1,\n",
    "                  validation_data=(x_val, x_val),\n",
    "                  shuffle=False)\n",
    "            print \"Epoch {}/{}:\".formant(_, epochs)\n",
    "        (loss,accur) = model.evaluate(x=x_test, y=y_test, batch_size=batch_size)\n",
    "        print \"Model accuary after training: {}\".formant(accur)\n",
    "        return loss, accur\n",
    "    else:\n",
    "        print('Using real-time data augmentation.')\n",
    "        # This will do preprocessing and realtime data augmentation:\n",
    "        datagen = ImageDataGenerator(\n",
    "            featurewise_center=False,  # set input mean to 0 over the dataset\n",
    "            samplewise_center=False,  # set each sample mean to 0\n",
    "            featurewise_std_normalization=False,  # divide inputs by std of the dataset\n",
    "            samplewise_std_normalization=False,  # divide each input by its std\n",
    "            zca_whitening=False,  # apply ZCA whitening\n",
    "            rotation_range=0,  # randomly rotate images in the range (degrees, 0 to 180)\n",
    "            width_shift_range=0.1,  # randomly shift images horizontally (fraction of total width)\n",
    "            height_shift_range=0.1,  # randomly shift images vertically (fraction of total height)\n",
    "            horizontal_flip=True,  # randomly flip images\n",
    "            vertical_flip=False)  # randomly flip images\n",
    "\n",
    "        # Compute quantities required for feature-wise normalization\n",
    "        # (std, mean, and principal components if ZCA whitening is applied).\n",
    "        datagen.fit(x_train)\n",
    "\n",
    "        # Fit the model on the batches generated by datagen.flow().\n",
    "        for _ in range(epochs):\n",
    "            model.fit_generator(datagen.flow(x_train, y_train,\n",
    "                                             batch_size=batch_size),\n",
    "                                steps_per_epoch=x_train.shape[0] // batch_size,\n",
    "                                epochs=1,\n",
    "                                validation_data=(x_val, y_val),\n",
    "                                workers=4,\n",
    "                                callbacks=None)\n",
    "            print \"Epoch {}/{}:\".formant(_, epochs)\n",
    "        (loss,accur) = model.evaluate(x=x_test, y=y_test, batch_size=batch_size)\n",
    "        print \"Model accuary after training: {}\".formant(accur)\n",
    "        return loss, accur"
   ]
  },
  {
   "cell_type": "code",
   "execution_count": 16,
   "metadata": {
    "scrolled": true
   },
   "outputs": [
    {
     "name": "stdout",
     "output_type": "stream",
     "text": [
      "Using real-time data augmentation.\n"
     ]
    },
    {
     "name": "stderr",
     "output_type": "stream",
     "text": [
      "/Users/EdwardTONG/.pyenv/versions/2.7.13/lib/python2.7/site-packages/keras/preprocessing/image.py:787: UserWarning: NumpyArrayIterator is set to use the data format convention \"channels_last\" (channels on axis 3), i.e. expected either 1, 3 or 4 channels on axis 3. However, it was passed an array with shape (199, 256, 256, 2) (2 channels).\n",
      "  ' (' + str(self.x.shape[channels_axis]) + ' channels).')\n"
     ]
    },
    {
     "name": "stdout",
     "output_type": "stream",
     "text": [
      "Epoch 1/1\n",
      "12/12 [==============================] - 111s - loss: 0.9643 - acc: 0.5998 - val_loss: 1.0025 - val_acc: 0.5800\n"
     ]
    },
    {
     "ename": "AttributeError",
     "evalue": "'str' object has no attribute 'formant'",
     "output_type": "error",
     "traceback": [
      "\u001b[0;31m---------------------------------------------------------------------------\u001b[0m",
      "\u001b[0;31mAttributeError\u001b[0m                            Traceback (most recent call last)",
      "\u001b[0;32m<ipython-input-16-d67b8e7eb9fc>\u001b[0m in \u001b[0;36m<module>\u001b[0;34m()\u001b[0m\n\u001b[1;32m     10\u001b[0m \u001b[0;31m#     for _ in range(10):\u001b[0m\u001b[0;34m\u001b[0m\u001b[0;34m\u001b[0m\u001b[0m\n\u001b[1;32m     11\u001b[0m         \u001b[0;34m(\u001b[0m\u001b[0mx_train\u001b[0m\u001b[0;34m,\u001b[0m\u001b[0my_train\u001b[0m\u001b[0;34m)\u001b[0m\u001b[0;34m,\u001b[0m\u001b[0;34m(\u001b[0m\u001b[0mx_val\u001b[0m\u001b[0;34m,\u001b[0m \u001b[0my_val\u001b[0m\u001b[0;34m)\u001b[0m\u001b[0;34m,\u001b[0m\u001b[0;34m(\u001b[0m\u001b[0mx_test\u001b[0m\u001b[0;34m,\u001b[0m \u001b[0my_test\u001b[0m\u001b[0;34m)\u001b[0m \u001b[0;34m=\u001b[0m \u001b[0mprocessed_data\u001b[0m\u001b[0;34m[\u001b[0m\u001b[0m_\u001b[0m\u001b[0;34m]\u001b[0m\u001b[0;34m\u001b[0m\u001b[0m\n\u001b[0;32m---> 12\u001b[0;31m         \u001b[0mloss\u001b[0m\u001b[0;34m,\u001b[0m \u001b[0maccur\u001b[0m \u001b[0;34m=\u001b[0m \u001b[0mlearn_and_test\u001b[0m\u001b[0;34m(\u001b[0m\u001b[0mx_train\u001b[0m\u001b[0;34m,\u001b[0m \u001b[0my_train\u001b[0m\u001b[0;34m,\u001b[0m \u001b[0mx_val\u001b[0m\u001b[0;34m,\u001b[0m \u001b[0my_val\u001b[0m\u001b[0;34m,\u001b[0m \u001b[0mx_test\u001b[0m\u001b[0;34m,\u001b[0m \u001b[0my_test\u001b[0m\u001b[0;34m)\u001b[0m\u001b[0;34m\u001b[0m\u001b[0m\n\u001b[0m\u001b[1;32m     13\u001b[0m         \u001b[0mall_loss\u001b[0m\u001b[0;34m.\u001b[0m\u001b[0mappend\u001b[0m\u001b[0;34m(\u001b[0m\u001b[0mloss\u001b[0m\u001b[0;34m)\u001b[0m\u001b[0;34m\u001b[0m\u001b[0m\n\u001b[1;32m     14\u001b[0m         \u001b[0mall_accur\u001b[0m\u001b[0;34m.\u001b[0m\u001b[0mappend\u001b[0m\u001b[0;34m(\u001b[0m\u001b[0maccur\u001b[0m\u001b[0;34m)\u001b[0m\u001b[0;34m\u001b[0m\u001b[0m\n",
      "\u001b[0;32m<ipython-input-15-6deeaad3c12e>\u001b[0m in \u001b[0;36mlearn_and_test\u001b[0;34m(x_train, y_train, x_val, y_val, x_test, y_test)\u001b[0m\n\u001b[1;32m     43\u001b[0m                                 \u001b[0mworkers\u001b[0m\u001b[0;34m=\u001b[0m\u001b[0;36m4\u001b[0m\u001b[0;34m,\u001b[0m\u001b[0;34m\u001b[0m\u001b[0m\n\u001b[1;32m     44\u001b[0m                                 callbacks=None)\n\u001b[0;32m---> 45\u001b[0;31m             \u001b[0;32mprint\u001b[0m \u001b[0;34m\"Epoch {}/{}:\"\u001b[0m\u001b[0;34m.\u001b[0m\u001b[0mformant\u001b[0m\u001b[0;34m(\u001b[0m\u001b[0m_\u001b[0m\u001b[0;34m,\u001b[0m \u001b[0mepochs\u001b[0m\u001b[0;34m)\u001b[0m\u001b[0;34m\u001b[0m\u001b[0m\n\u001b[0m\u001b[1;32m     46\u001b[0m         \u001b[0;34m(\u001b[0m\u001b[0mloss\u001b[0m\u001b[0;34m,\u001b[0m\u001b[0maccur\u001b[0m\u001b[0;34m)\u001b[0m \u001b[0;34m=\u001b[0m \u001b[0mmodel\u001b[0m\u001b[0;34m.\u001b[0m\u001b[0mevaluate\u001b[0m\u001b[0;34m(\u001b[0m\u001b[0mx\u001b[0m\u001b[0;34m=\u001b[0m\u001b[0mx_test\u001b[0m\u001b[0;34m,\u001b[0m \u001b[0my\u001b[0m\u001b[0;34m=\u001b[0m\u001b[0my_test\u001b[0m\u001b[0;34m,\u001b[0m \u001b[0mbatch_size\u001b[0m\u001b[0;34m=\u001b[0m\u001b[0mbatch_size\u001b[0m\u001b[0;34m)\u001b[0m\u001b[0;34m\u001b[0m\u001b[0m\n\u001b[1;32m     47\u001b[0m         \u001b[0;32mprint\u001b[0m \u001b[0;34m\"Model accuary after training: {}\"\u001b[0m\u001b[0;34m.\u001b[0m\u001b[0mformant\u001b[0m\u001b[0;34m(\u001b[0m\u001b[0maccur\u001b[0m\u001b[0;34m)\u001b[0m\u001b[0;34m\u001b[0m\u001b[0m\n",
      "\u001b[0;31mAttributeError\u001b[0m: 'str' object has no attribute 'formant'"
     ]
    }
   ],
   "source": [
    "if not cross_validation:\n",
    "    (x_train,y_train),(x_val, y_val),(x_test, y_test) = processed_data[0]\n",
    "    loss, accur = learn_and_test(x_train, y_train, x_val, y_val, x_test, y_test)\n",
    "    print \"Model loss after training: {}\".format(loss)\n",
    "    print \"Model accuary after training: {}\".format(accur)\n",
    "else:\n",
    "    all_loss = []\n",
    "    all_accur = []\n",
    "    for _ in range(len(processed_data)):\n",
    "#     for _ in range(10):\n",
    "        (x_train,y_train),(x_val, y_val),(x_test, y_test) = processed_data[_]\n",
    "        loss, accur = learn_and_test(x_train, y_train, x_val, y_val, x_test, y_test)\n",
    "        all_loss.append(loss)\n",
    "        all_accur.append(accur)\n",
    "    print \"Model loss after training: {}\".format(mean(all_loss))\n",
    "    print \"Model accuary after training: {}\".format(mean(all_accur))"
   ]
  },
  {
   "cell_type": "code",
   "execution_count": null,
   "metadata": {
    "collapsed": true
   },
   "outputs": [],
   "source": [
    "# Save model and weights\n",
    "if not os.path.isdir(save_dir):\n",
    "    os.makedirs(save_dir)\n",
    "model_path = os.path.join(save_dir, model_name)\n",
    "model.save(model_path)\n",
    "print('Saved trained model at %s ' % model_path)\n",
    "\n",
    "# Score trained model.\n",
    "scores = model.evaluate(x_test, y_test, verbose=1)\n",
    "print('Test loss:', scores[0])\n",
    "print('Test accuracy:', scores[1])"
   ]
  },
  {
   "cell_type": "code",
   "execution_count": null,
   "metadata": {
    "collapsed": true
   },
   "outputs": [],
   "source": []
  }
 ],
 "metadata": {
  "kernelspec": {
   "display_name": "Python 2",
   "language": "python",
   "name": "python2"
  },
  "language_info": {
   "codemirror_mode": {
    "name": "ipython",
    "version": 2
   },
   "file_extension": ".py",
   "mimetype": "text/x-python",
   "name": "python",
   "nbconvert_exporter": "python",
   "pygments_lexer": "ipython2",
   "version": "2.7.13"
  }
 },
 "nbformat": 4,
 "nbformat_minor": 2
}
