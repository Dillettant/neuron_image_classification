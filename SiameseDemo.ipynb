{
 "cells": [
  {
   "cell_type": "code",
   "execution_count": 13,
   "metadata": {},
   "outputs": [],
   "source": [
    "'''\n",
    "It's from keras demo code for Siamese Network with MNIST data:\n",
    "https://github.com/NVIDIA/keras/blob/master/examples/mnist_siamese_graph.py\n",
    "'''\n",
    "from __future__ import absolute_import\n",
    "from __future__ import print_function\n",
    "import numpy as np\n",
    "\n",
    "import random\n",
    "from keras.datasets import mnist\n",
    "from keras.models import Sequential, Model\n",
    "from keras.layers import Dense, Dropout, Input, Lambda\n",
    "from keras.optimizers import RMSprop\n",
    "from keras import backend as K\n",
    "\n",
    "def euclidean_distance(vects):\n",
    "    x, y = vects\n",
    "    return K.sqrt(K.sum(K.square(x - y), axis=1, keepdims=True))\n",
    "\n",
    "def eucl_dist_output_shape(shapes):\n",
    "    shape1, shape2 = shapes\n",
    "    return (shape1[0], 1)\n",
    "\n",
    "def contrastive_loss(y_true, y_pred):\n",
    "    '''Contrastive loss from Hadsell-et-al.'06\n",
    "    http://yann.lecun.com/exdb/publis/pdf/hadsell-chopra-lecun-06.pdf\n",
    "    '''\n",
    "    margin = 1\n",
    "    return K.mean(y_true * K.square(y_pred) + (1 - y_true) * K.square(K.maximum(margin - y_pred, 0)))\n",
    "\n",
    "def create_pairs(x, digit_indices):\n",
    "    '''Positive and negative pair creation.\n",
    "    Alternates between positive and negative pairs.\n",
    "    '''\n",
    "    pairs = []\n",
    "    labels = []\n",
    "    n = min([len(digit_indices[d]) for d in range(10)]) - 1\n",
    "    for d in range(10):\n",
    "        for i in range(n):\n",
    "            z1, z2 = digit_indices[d][i], digit_indices[d][i + 1]\n",
    "            pairs += [[x[z1], x[z2]]]\n",
    "            inc = random.randrange(1, 10)\n",
    "            dn = (d + inc) % 10\n",
    "            z1, z2 = digit_indices[d][i], digit_indices[dn][i]\n",
    "            pairs += [[x[z1], x[z2]]]\n",
    "            labels += [1, 0]\n",
    "    return np.array(pairs), np.array(labels)\n",
    "\n",
    "def create_base_network(img_shape):\n",
    "    '''Base network to be shared (eq. to feature extraction).\n",
    "    '''\n",
    "    seq = Sequential()\n",
    "    seq.add(Dense(128, input_shape=img_shape, activation='relu'))\n",
    "    seq.add(Dropout(0.1))\n",
    "    seq.add(Dense(128, activation='relu'))\n",
    "    seq.add(Dropout(0.1))\n",
    "    seq.add(Dense(128, activation='relu'))\n",
    "    return seq\n",
    "\n",
    "def compute_accuracy(predictions, labels):\n",
    "    '''Compute classification accuracy with a fixed threshold on distances.\n",
    "    '''\n",
    "    return labels[predictions.ravel() < 0.5].mean()"
   ]
  },
  {
   "cell_type": "code",
   "execution_count": 3,
   "metadata": {},
   "outputs": [],
   "source": [
    "import numpy as np\n",
    "import keras\n",
    "\n",
    "def ImageNet_preprocessing(data_x, input_img_size=(256, 256, 2), output_img_size=(256, 256, 3)):\n",
    "    new_data_x = np.resize(data_x, (len(data_x), 256, 256, 3))\n",
    "    return new_data_x\n",
    "\n",
    "def read_data():\n",
    "    # write a function to select x_train y_train x_test y_test\n",
    "    data_x = np.load('image_data_256x256.npy')\n",
    "    data_y = np.load('labels.npy')\n",
    "\n",
    "    # concatenate together and shuffle the data\n",
    "    data_x = np.swapaxes(np.swapaxes(data_x,1,2),2,3)\n",
    "    data_y = np.array([data_y]).T\n",
    "\n",
    "    # Expand 2 channels into 3 channels\n",
    "    # data_x = ImageNet_preprocessing(data_x)\n",
    "\n",
    "    # shuffle the data first\n",
    "    from sklearn.utils import shuffle\n",
    "    data_x, data_y = shuffle(data_x, data_y)\n",
    "\n",
    "    return data_x, data_y\n",
    "\n",
    "def cross_validataion_splits(data_x, data_y, test_set_size = 0.2, val_set_size = 0.2, cv_split_size = 10, num_classes = 3):\n",
    "    from sklearn.cross_validation import train_test_split\n",
    "    from sklearn.model_selection import KFold\n",
    "    processed_data = []\n",
    "    all_index = [_ for _ in range(len(data_x))]\n",
    "\n",
    "    # cross-validataion data set\n",
    "    kf = KFold(n_splits=cv_split_size)\n",
    "\n",
    "    for train, test in kf.split(all_index):\n",
    "        print(\"Train size: {}, Test size: {}\".format(train.shape, test.shape))\n",
    "        x_train = data_x[train]\n",
    "        y_train = data_y[train]\n",
    "        x_test = data_x[test]\n",
    "        y_test = data_y[test]\n",
    "\n",
    "        x_train, x_val, y_train, y_val = train_test_split(x_train, y_train, test_size=val_set_size)\n",
    "        # Convert class vectors to binary class matrices.\n",
    "        y_train = keras.utils.to_categorical(y_train, num_classes)\n",
    "        y_val = keras.utils.to_categorical(y_val, num_classes)\n",
    "        y_test = keras.utils.to_categorical(y_test, num_classes)\n",
    "\n",
    "        x_train = x_train.astype('float32')\n",
    "        x_val = x_val.astype('float32')\n",
    "        x_test = x_test.astype('float32')\n",
    "        x_train /= 255\n",
    "        x_val /= 255\n",
    "        x_test /= 255\n",
    "\n",
    "        processed_data.append([(x_train,y_train),(x_val, y_val),(x_test, y_test)])\n",
    "    print(\"Cross validation data has been split!\")\n",
    "    return processed_data\n"
   ]
  },
  {
   "cell_type": "code",
   "execution_count": 4,
   "metadata": {},
   "outputs": [
    {
     "name": "stderr",
     "output_type": "stream",
     "text": [
      "/Users/EdwardTONG/.pyenv/versions/2.7.13/lib/python2.7/site-packages/sklearn/cross_validation.py:44: DeprecationWarning: This module was deprecated in version 0.18 in favor of the model_selection module into which all the refactored classes and functions are moved. Also note that the interface of the new CV iterators are different from that of this module. This module will be removed in 0.20.\n",
      "  \"This module will be removed in 0.20.\", DeprecationWarning)\n"
     ]
    },
    {
     "name": "stdout",
     "output_type": "stream",
     "text": [
      "Train size: (249,), Test size: (28,)\n",
      "Train size: (249,), Test size: (28,)\n",
      "Train size: (249,), Test size: (28,)\n",
      "Train size: (249,), Test size: (28,)\n",
      "Train size: (249,), Test size: (28,)\n",
      "Train size: (249,), Test size: (28,)\n",
      "Train size: (249,), Test size: (28,)\n",
      "Train size: (250,), Test size: (27,)\n",
      "Train size: (250,), Test size: (27,)\n",
      "Train size: (250,), Test size: (27,)\n",
      "Cross validation data has been split!\n"
     ]
    }
   ],
   "source": [
    "data_x, data_y = read_data()\n",
    "processed_data = cross_validataion_splits(data_x, data_y)"
   ]
  },
  {
   "cell_type": "code",
   "execution_count": 8,
   "metadata": {},
   "outputs": [
    {
     "name": "stdout",
     "output_type": "stream",
     "text": [
      "(199, 256, 256, 2) (199, 3)\n",
      "(50, 256, 256, 2) (50, 3)\n",
      "(28, 256, 256, 2) (28, 3)\n"
     ]
    }
   ],
   "source": [
    "import numpy as np\n",
    "(x_train, y_train),(x_val, y_val),(x_test, y_test) = processed_data[0]\n",
    "print(np.array(x_train).shape, np.array(y_train).shape)\n",
    "print(np.array(x_val).shape, np.array(y_val).shape)\n",
    "print(np.array(x_test).shape, np.array(y_test).shape)"
   ]
  },
  {
   "cell_type": "code",
   "execution_count": 15,
   "metadata": {},
   "outputs": [
    {
     "name": "stderr",
     "output_type": "stream",
     "text": [
      "/Users/EdwardTONG/.pyenv/versions/2.7.13/lib/python2.7/site-packages/ipykernel_launcher.py:14: UserWarning: Update your `Model` call to the Keras 2 API: `Model(outputs=Tensor(\"la..., inputs=[<tf.Tenso...)`\n",
      "  \n"
     ]
    }
   ],
   "source": [
    "input_shape = (256,256,1)\n",
    "\n",
    "# network definition\n",
    "base_network = create_base_network(input_shape)\n",
    "input_a = Input(shape=input_shape)\n",
    "input_b = Input(shape=input_shape)\n",
    "# because we re-use the same instance `base_network`,\n",
    "# the weights of the network\n",
    "# will be shared across the two branches\n",
    "processed_a = base_network(input_a)\n",
    "processed_b = base_network(input_b)\n",
    "\n",
    "distance = Lambda(euclidean_distance, output_shape=eucl_dist_output_shape)([processed_a, processed_b])\n",
    "model = Model(input=[input_a, input_b], output=distance)\n",
    "# train\n",
    "rms = RMSprop()\n",
    "model.compile(loss=contrastive_loss, optimizer=rms)"
   ]
  },
  {
   "cell_type": "code",
   "execution_count": 26,
   "metadata": {},
   "outputs": [
    {
     "name": "stdout",
     "output_type": "stream",
     "text": [
      "(199, 256, 256, 1)\n"
     ]
    }
   ],
   "source": [
    "print(np.array(processed_data[0][0][0][:,:,:,:1]).shape)"
   ]
  },
  {
   "cell_type": "code",
   "execution_count": null,
   "metadata": {
    "collapsed": true
   },
   "outputs": [],
   "source": [
    "tr_pairs = (,)\n",
    "tr_y = processed_data[0][0][1]\n",
    "val_pairs = (,)\n",
    "val_y = processed_data[0][1][1]"
   ]
  },
  {
   "cell_type": "code",
   "execution_count": null,
   "metadata": {
    "collapsed": true
   },
   "outputs": [],
   "source": [
    "nb_epoch = 20\n",
    "model.fit([tr_pairs[0], tr_pairs[1]], tr_y,\n",
    "          validation_data=([val_pairs[0], val_pairs[1]], val_y),\n",
    "          batch_size=128,\n",
    "          nb_epoch=nb_epoch)"
   ]
  },
  {
   "cell_type": "code",
   "execution_count": null,
   "metadata": {
    "collapsed": true
   },
   "outputs": [],
   "source": [
    "te_pairs = (,)\n",
    "te_y = processed_data[0][2][1]\n",
    "\n",
    "# compute final accuracy on training and test sets\n",
    "pred = model.predict([tr_pairs[:, 0], tr_pairs[:, 1]])\n",
    "tr_acc = compute_accuracy(pred, tr_y)\n",
    "pred = model.predict([te_pairs[:, 0], te_pairs[:, 1]])\n",
    "te_acc = compute_accuracy(pred, te_y)\n",
    "\n",
    "print('* Accuracy on training set: %0.2f%%' % (100 * tr_acc))\n",
    "print('* Accuracy on test set: %0.2f%%' % (100 * te_acc))"
   ]
  }
 ],
 "metadata": {
  "kernelspec": {
   "display_name": "Python 2",
   "language": "python",
   "name": "python2"
  },
  "language_info": {
   "codemirror_mode": {
    "name": "ipython",
    "version": 2
   },
   "file_extension": ".py",
   "mimetype": "text/x-python",
   "name": "python",
   "nbconvert_exporter": "python",
   "pygments_lexer": "ipython2",
   "version": "2.7.13"
  }
 },
 "nbformat": 4,
 "nbformat_minor": 2
}
