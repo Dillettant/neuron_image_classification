{
 "cells": [
  {
   "cell_type": "code",
   "execution_count": 1,
   "metadata": {},
   "outputs": [
    {
     "name": "stderr",
     "output_type": "stream",
     "text": [
      "Using TensorFlow backend.\n"
     ]
    }
   ],
   "source": [
    "import os\n",
    "os.environ[\"CUDA_DEVICE_ORDER\"] = \"PCI_BUS_ID\"\n",
    "os.environ[\"CUDA_VISIBLE_DEVICES\"] = \"0\"\n",
    "\n",
    "import tensorflow as tf\n",
    "import keras.backend.tensorflow_backend as KTF\n",
    "\n",
    "def get_session(gpu_fraction=0.3):\n",
    "    '''Assume that you have 6GB of GPU memory and want to allocate ~2GB'''\n",
    "    num_threads = os.environ.get('OMP_NUM_THREADS')\n",
    "    gpu_options = tf.GPUOptions(per_process_gpu_memory_fraction=gpu_fraction)\n",
    "\n",
    "    if num_threads:\n",
    "        return tf.Session(config=tf.ConfigProto(\n",
    "            gpu_options=gpu_options, intra_op_parallelism_threads=num_threads))\n",
    "    else:\n",
    "        return tf.Session(config=tf.ConfigProto(gpu_options=gpu_options))\n",
    "\n",
    "KTF.set_session(get_session(0.5))"
   ]
  },
  {
   "cell_type": "code",
   "execution_count": 2,
   "metadata": {
    "collapsed": true
   },
   "outputs": [],
   "source": [
    "import keras\n",
    "from keras.preprocessing.image import ImageDataGenerator\n",
    "from keras.models import Sequential\n",
    "from keras.layers import Dense, Dropout, Activation, Flatten\n",
    "from keras.layers import Conv2D, MaxPooling2D\n",
    "from keras.layers import Input\n",
    "from keras.models import Model\n",
    "\n",
    "from keras.layers import ZeroPadding2D,Convolution2D\n",
    "import numpy as np\n",
    "\n",
    "import os"
   ]
  },
  {
   "cell_type": "code",
   "execution_count": 3,
   "metadata": {
    "collapsed": true
   },
   "outputs": [],
   "source": [
    "batch_size = 16\n",
    "num_classes = 3\n",
    "epochs = 100\n",
    "\n",
    "# num_predictions = 20\n",
    "save_dir = os.path.join(os.getcwd(), 'saved_models')\n",
    "model_name = 'keras_neuron_classification_trained_model.h5'"
   ]
  },
  {
   "cell_type": "code",
   "execution_count": 4,
   "metadata": {},
   "outputs": [
    {
     "name": "stderr",
     "output_type": "stream",
     "text": [
      "/Users/EdwardTONG/.pyenv/versions/2.7.13/lib/python2.7/site-packages/sklearn/cross_validation.py:44: DeprecationWarning: This module was deprecated in version 0.18 in favor of the model_selection module into which all the refactored classes and functions are moved. Also note that the interface of the new CV iterators are different from that of this module. This module will be removed in 0.20.\n",
      "  \"This module will be removed in 0.20.\", DeprecationWarning)\n"
     ]
    },
    {
     "name": "stdout",
     "output_type": "stream",
     "text": [
      "(221, 256, 256, 2) (56, 256, 256, 2) (221, 1) (56, 1)\n"
     ]
    }
   ],
   "source": [
    "# write a function to select x_train y_train x_test y_test\n",
    "data_x = np.load('image_data_256x256.npy')\n",
    "data_y = np.load('labels.npy')\n",
    "data_x = np.swapaxes(np.swapaxes(data_x,1,2),2,3)\n",
    "data_y = np.array([data_y]).T\n",
    "\n",
    "from sklearn.cross_validation import train_test_split\n",
    "x_train, x_test, y_train, y_test = train_test_split(data_x, data_y, test_size=0.2)\n",
    "\n",
    "print x_train.shape, x_test.shape, y_train.shape, y_test.shape\n",
    "# shuffle the data\n",
    "# select 20% as the test data and 80% as the training data\n",
    "# np.random.choice(len(data_x), len(data_x) * 0.2, replace=False)"
   ]
  },
  {
   "cell_type": "code",
   "execution_count": 5,
   "metadata": {},
   "outputs": [
    {
     "name": "stdout",
     "output_type": "stream",
     "text": [
      "(221, 256, 256, 2) (56, 256, 256, 2) (221, 3) (56, 3)\n"
     ]
    }
   ],
   "source": [
    "# Convert class vectors to binary class matrices.\n",
    "y_train = keras.utils.to_categorical(y_train, num_classes)\n",
    "y_test = keras.utils.to_categorical(y_test, num_classes)\n",
    "print x_train.shape, x_test.shape, y_train.shape, y_test.shape"
   ]
  },
  {
   "cell_type": "code",
   "execution_count": 26,
   "metadata": {},
   "outputs": [
    {
     "name": "stderr",
     "output_type": "stream",
     "text": [
      "/Users/EdwardTONG/.pyenv/versions/2.7.13/lib/python2.7/site-packages/ipykernel_launcher.py:38: UserWarning: Update your `ZeroPadding2D` call to the Keras 2 API: `ZeroPadding2D(padding=(1, 1), data_format=\"channels_last\")`\n",
      "/Users/EdwardTONG/.pyenv/versions/2.7.13/lib/python2.7/site-packages/ipykernel_launcher.py:46: UserWarning: Update your `Conv2D` call to the Keras 2 API: `Conv2D(16, (3, 3), padding=\"same\", activation=\"relu\", data_format=\"channels_last\")`\n",
      "/Users/EdwardTONG/.pyenv/versions/2.7.13/lib/python2.7/site-packages/ipykernel_launcher.py:47: UserWarning: Update your `ZeroPadding2D` call to the Keras 2 API: `ZeroPadding2D(padding=(1, 1), data_format=\"channels_last\")`\n",
      "/Users/EdwardTONG/.pyenv/versions/2.7.13/lib/python2.7/site-packages/ipykernel_launcher.py:55: UserWarning: Update your `Conv2D` call to the Keras 2 API: `Conv2D(16, (3, 3), padding=\"same\", activation=\"relu\", data_format=\"channels_last\")`\n",
      "/Users/EdwardTONG/.pyenv/versions/2.7.13/lib/python2.7/site-packages/ipykernel_launcher.py:59: UserWarning: Update your `ZeroPadding2D` call to the Keras 2 API: `ZeroPadding2D(padding=(1, 1), data_format=\"channels_last\")`\n",
      "/Users/EdwardTONG/.pyenv/versions/2.7.13/lib/python2.7/site-packages/ipykernel_launcher.py:63: UserWarning: Update your `Conv2D` call to the Keras 2 API: `Conv2D(128, (3, 3), padding=\"same\", activation=\"relu\", data_format=\"channels_last\")`\n",
      "/Users/EdwardTONG/.pyenv/versions/2.7.13/lib/python2.7/site-packages/ipykernel_launcher.py:64: UserWarning: Update your `ZeroPadding2D` call to the Keras 2 API: `ZeroPadding2D(padding=(1, 1), data_format=\"channels_last\")`\n",
      "/Users/EdwardTONG/.pyenv/versions/2.7.13/lib/python2.7/site-packages/ipykernel_launcher.py:68: UserWarning: Update your `Conv2D` call to the Keras 2 API: `Conv2D(128, (3, 3), padding=\"same\", activation=\"relu\", data_format=\"channels_last\")`\n",
      "/Users/EdwardTONG/.pyenv/versions/2.7.13/lib/python2.7/site-packages/ipykernel_launcher.py:72: UserWarning: Update your `ZeroPadding2D` call to the Keras 2 API: `ZeroPadding2D(padding=(1, 1), data_format=\"channels_last\")`\n",
      "/Users/EdwardTONG/.pyenv/versions/2.7.13/lib/python2.7/site-packages/ipykernel_launcher.py:76: UserWarning: Update your `Conv2D` call to the Keras 2 API: `Conv2D(256, (3, 3), padding=\"same\", activation=\"relu\", data_format=\"channels_last\")`\n",
      "/Users/EdwardTONG/.pyenv/versions/2.7.13/lib/python2.7/site-packages/ipykernel_launcher.py:77: UserWarning: Update your `ZeroPadding2D` call to the Keras 2 API: `ZeroPadding2D(padding=(1, 1), data_format=\"channels_last\")`\n",
      "/Users/EdwardTONG/.pyenv/versions/2.7.13/lib/python2.7/site-packages/ipykernel_launcher.py:81: UserWarning: Update your `Conv2D` call to the Keras 2 API: `Conv2D(256, (3, 3), padding=\"same\", activation=\"relu\", data_format=\"channels_last\")`\n",
      "/Users/EdwardTONG/.pyenv/versions/2.7.13/lib/python2.7/site-packages/ipykernel_launcher.py:82: UserWarning: Update your `ZeroPadding2D` call to the Keras 2 API: `ZeroPadding2D(padding=(1, 1), data_format=\"channels_last\")`\n",
      "/Users/EdwardTONG/.pyenv/versions/2.7.13/lib/python2.7/site-packages/ipykernel_launcher.py:86: UserWarning: Update your `Conv2D` call to the Keras 2 API: `Conv2D(256, (3, 3), padding=\"same\", activation=\"relu\", data_format=\"channels_last\")`\n",
      "/Users/EdwardTONG/.pyenv/versions/2.7.13/lib/python2.7/site-packages/ipykernel_launcher.py:87: UserWarning: Update your `ZeroPadding2D` call to the Keras 2 API: `ZeroPadding2D(padding=(1, 1), data_format=\"channels_last\")`\n",
      "/Users/EdwardTONG/.pyenv/versions/2.7.13/lib/python2.7/site-packages/ipykernel_launcher.py:91: UserWarning: Update your `Conv2D` call to the Keras 2 API: `Conv2D(256, (3, 3), padding=\"same\", activation=\"relu\", data_format=\"channels_last\")`\n",
      "/Users/EdwardTONG/.pyenv/versions/2.7.13/lib/python2.7/site-packages/ipykernel_launcher.py:95: UserWarning: Update your `ZeroPadding2D` call to the Keras 2 API: `ZeroPadding2D(padding=(1, 1), data_format=\"channels_last\")`\n",
      "/Users/EdwardTONG/.pyenv/versions/2.7.13/lib/python2.7/site-packages/ipykernel_launcher.py:99: UserWarning: Update your `Conv2D` call to the Keras 2 API: `Conv2D(512, (3, 3), padding=\"same\", activation=\"relu\", data_format=\"channels_last\")`\n",
      "/Users/EdwardTONG/.pyenv/versions/2.7.13/lib/python2.7/site-packages/ipykernel_launcher.py:100: UserWarning: Update your `ZeroPadding2D` call to the Keras 2 API: `ZeroPadding2D(padding=(1, 1), data_format=\"channels_last\")`\n",
      "/Users/EdwardTONG/.pyenv/versions/2.7.13/lib/python2.7/site-packages/ipykernel_launcher.py:104: UserWarning: Update your `Conv2D` call to the Keras 2 API: `Conv2D(512, (3, 3), padding=\"same\", activation=\"relu\", data_format=\"channels_last\")`\n",
      "/Users/EdwardTONG/.pyenv/versions/2.7.13/lib/python2.7/site-packages/ipykernel_launcher.py:105: UserWarning: Update your `ZeroPadding2D` call to the Keras 2 API: `ZeroPadding2D(padding=(1, 1), data_format=\"channels_last\")`\n",
      "/Users/EdwardTONG/.pyenv/versions/2.7.13/lib/python2.7/site-packages/ipykernel_launcher.py:109: UserWarning: Update your `Conv2D` call to the Keras 2 API: `Conv2D(512, (3, 3), padding=\"same\", activation=\"relu\", data_format=\"channels_last\")`\n",
      "/Users/EdwardTONG/.pyenv/versions/2.7.13/lib/python2.7/site-packages/ipykernel_launcher.py:110: UserWarning: Update your `ZeroPadding2D` call to the Keras 2 API: `ZeroPadding2D(padding=(1, 1), data_format=\"channels_last\")`\n",
      "/Users/EdwardTONG/.pyenv/versions/2.7.13/lib/python2.7/site-packages/ipykernel_launcher.py:114: UserWarning: Update your `Conv2D` call to the Keras 2 API: `Conv2D(512, (3, 3), padding=\"same\", activation=\"relu\", data_format=\"channels_last\")`\n"
     ]
    }
   ],
   "source": [
    "# define the model \n",
    "# CNN structure\n",
    "# model = Sequential()\n",
    "# model.add(Conv2D(8, (3, 3), padding='same',\n",
    "#                  input_shape=x_train.shape[1:]))\n",
    "# model.add(Activation('relu'))\n",
    "# model.add(Conv2D(8, (3, 3)))\n",
    "# model.add(Activation('relu'))\n",
    "# model.add(MaxPooling2D(pool_size=(2, 2)))\n",
    "# model.add(Dropout(0.25))\n",
    "\n",
    "# model.add(Conv2D(16, (3, 3), padding='same'))\n",
    "# model.add(Activation('relu'))\n",
    "# model.add(Conv2D(16, (3, 3)))\n",
    "# model.add(Activation('relu'))\n",
    "# model.add(MaxPooling2D(pool_size=(2, 2)))\n",
    "# model.add(Dropout(0.25))\n",
    "\n",
    "# model.add(Flatten())\n",
    "# model.add(Dense(256))\n",
    "# model.add(Activation('relu'))\n",
    "# model.add(Dropout(0.5))\n",
    "# model.add(Dense(num_classes))\n",
    "# model.add(Activation('softmax'))\n",
    "\n",
    "img_input = Input(shape = (256, 256, 2))\n",
    "DIM_ORDERING = \"tf\"\n",
    "\n",
    "if DIM_ORDERING == 'tf':\n",
    "    x_train = np.transpose(x_train.astype('float32') / 255., (0, 1, 2, 3))\n",
    "    x_test = np.transpose(x_test.astype('float32') / 255., (0, 1, 2, 3))\n",
    "\n",
    "if DIM_ORDERING == 'th':\n",
    "    x_train = x_train.astype('float32') / 255.\n",
    "    x_test = x_test.astype('float32') / 255.\n",
    "\n",
    "# Layer Cluster - 1\n",
    "x = ZeroPadding2D(padding=(1, 1), dim_ordering=DIM_ORDERING)(img_input)\n",
    "# x = Convolution2D(64, 3, 3,\n",
    "#                   activation='relu',\n",
    "#                   border_mode='same',\n",
    "#                   dim_ordering=DIM_ORDERING)(x)\n",
    "x = Convolution2D(16, 3, 3,\n",
    "                  activation='relu',\n",
    "                  border_mode='same',\n",
    "                  dim_ordering=DIM_ORDERING)(x)\n",
    "x = ZeroPadding2D(padding=(1, 1), dim_ordering=DIM_ORDERING)(x)\n",
    "# x = Convolution2D(64, 3, 3,\n",
    "#                   activation='relu',\n",
    "#                   border_mode='same',\n",
    "#                   dim_ordering=DIM_ORDERING)(x)\n",
    "x = Convolution2D(16, 3, 3,\n",
    "                  activation='relu',\n",
    "                  border_mode='same',\n",
    "                  dim_ordering=DIM_ORDERING)(x)\n",
    "x = MaxPooling2D((2, 2), strides=(2, 2))(x)\n",
    "\n",
    "# Layer Cluster - 2\n",
    "x = ZeroPadding2D(padding=(1, 1), dim_ordering=DIM_ORDERING)(x)\n",
    "x = Convolution2D(128, 3, 3,\n",
    "                  activation='relu',\n",
    "                  border_mode='same',\n",
    "                  dim_ordering=DIM_ORDERING)(x)\n",
    "x = ZeroPadding2D(padding=(1, 1), dim_ordering=DIM_ORDERING)(x)\n",
    "x = Convolution2D(128, 3, 3,\n",
    "                  activation='relu',\n",
    "                  border_mode='same',\n",
    "                  dim_ordering=DIM_ORDERING)(x)\n",
    "x = MaxPooling2D((2, 2), strides=(2, 2))(x)\n",
    "\n",
    "# Layer Cluster - 3\n",
    "x = ZeroPadding2D(padding=(1, 1), dim_ordering=DIM_ORDERING)(x)\n",
    "x = Convolution2D(256, 3, 3,\n",
    "                  activation='relu',\n",
    "                  border_mode='same',\n",
    "                  dim_ordering=DIM_ORDERING)(x)\n",
    "x = ZeroPadding2D(padding=(1, 1), dim_ordering=DIM_ORDERING)(x)\n",
    "x = Convolution2D(256, 3, 3,\n",
    "                  activation='relu',\n",
    "                  border_mode='same',\n",
    "                  dim_ordering=DIM_ORDERING)(x)\n",
    "x = ZeroPadding2D(padding=(1, 1), dim_ordering=DIM_ORDERING)(x)\n",
    "x = Convolution2D(256, 3, 3,\n",
    "                  activation='relu',\n",
    "                  border_mode='same',\n",
    "                  dim_ordering=DIM_ORDERING)(x)\n",
    "x = ZeroPadding2D(padding=(1, 1), dim_ordering=DIM_ORDERING)(x)\n",
    "x = Convolution2D(256, 3, 3,\n",
    "                  activation='relu',\n",
    "                  border_mode='same',\n",
    "                  dim_ordering=DIM_ORDERING)(x)\n",
    "x = MaxPooling2D((2, 2), strides=(2, 2))(x)\n",
    "\n",
    "# Layer Cluster - 4\n",
    "x = ZeroPadding2D(padding=(1, 1), dim_ordering=DIM_ORDERING)(x)\n",
    "x = Convolution2D(512, 3, 3,\n",
    "                  activation='relu',\n",
    "                  border_mode='same',\n",
    "                  dim_ordering=DIM_ORDERING)(x)\n",
    "x = ZeroPadding2D(padding=(1, 1), dim_ordering=DIM_ORDERING)(x)\n",
    "x = Convolution2D(512, 3, 3,\n",
    "                  activation='relu',\n",
    "                  border_mode='same',\n",
    "                  dim_ordering=DIM_ORDERING)(x)\n",
    "x = ZeroPadding2D(padding=(1, 1), dim_ordering=DIM_ORDERING)(x)\n",
    "x = Convolution2D(512, 3, 3,\n",
    "                  activation='relu',\n",
    "                  border_mode='same',\n",
    "                  dim_ordering=DIM_ORDERING)(x)\n",
    "x = ZeroPadding2D(padding=(1, 1), dim_ordering=DIM_ORDERING)(x)\n",
    "x = Convolution2D(512, 3, 3,\n",
    "                  activation='relu',\n",
    "                  border_mode='same',\n",
    "                  dim_ordering=DIM_ORDERING)(x)\n",
    "x = MaxPooling2D((2, 2), strides=(2, 2))(x)\n",
    "\n",
    "# Layer Cluster - 5 - Output Layer\n",
    "x = Flatten()(x)\n",
    "x = Dense(num_classes, activation='relu')(x)\n",
    "x = Dropout(0.5)(x)\n",
    "x = Dense(num_classes, activation='relu')(x)\n",
    "x = Dropout(0.5)(x)\n",
    "x = Dense(num_classes, activation='softmax')(x)"
   ]
  },
  {
   "cell_type": "code",
   "execution_count": 27,
   "metadata": {},
   "outputs": [
    {
     "name": "stdout",
     "output_type": "stream",
     "text": [
      "_________________________________________________________________\n",
      "Layer (type)                 Output Shape              Param #   \n",
      "=================================================================\n",
      "input_5 (InputLayer)         (None, 256, 256, 2)       0         \n",
      "_________________________________________________________________\n",
      "zero_padding2d_49 (ZeroPaddi (None, 258, 258, 2)       0         \n",
      "_________________________________________________________________\n",
      "conv2d_49 (Conv2D)           (None, 258, 258, 16)      304       \n",
      "_________________________________________________________________\n",
      "zero_padding2d_50 (ZeroPaddi (None, 260, 260, 16)      0         \n",
      "_________________________________________________________________\n",
      "conv2d_50 (Conv2D)           (None, 260, 260, 16)      2320      \n",
      "_________________________________________________________________\n",
      "max_pooling2d_17 (MaxPooling (None, 130, 130, 16)      0         \n",
      "_________________________________________________________________\n",
      "zero_padding2d_51 (ZeroPaddi (None, 132, 132, 16)      0         \n",
      "_________________________________________________________________\n",
      "conv2d_51 (Conv2D)           (None, 132, 132, 128)     18560     \n",
      "_________________________________________________________________\n",
      "zero_padding2d_52 (ZeroPaddi (None, 134, 134, 128)     0         \n",
      "_________________________________________________________________\n",
      "conv2d_52 (Conv2D)           (None, 134, 134, 128)     147584    \n",
      "_________________________________________________________________\n",
      "max_pooling2d_18 (MaxPooling (None, 67, 67, 128)       0         \n",
      "_________________________________________________________________\n",
      "zero_padding2d_53 (ZeroPaddi (None, 69, 69, 128)       0         \n",
      "_________________________________________________________________\n",
      "conv2d_53 (Conv2D)           (None, 69, 69, 256)       295168    \n",
      "_________________________________________________________________\n",
      "zero_padding2d_54 (ZeroPaddi (None, 71, 71, 256)       0         \n",
      "_________________________________________________________________\n",
      "conv2d_54 (Conv2D)           (None, 71, 71, 256)       590080    \n",
      "_________________________________________________________________\n",
      "zero_padding2d_55 (ZeroPaddi (None, 73, 73, 256)       0         \n",
      "_________________________________________________________________\n",
      "conv2d_55 (Conv2D)           (None, 73, 73, 256)       590080    \n",
      "_________________________________________________________________\n",
      "zero_padding2d_56 (ZeroPaddi (None, 75, 75, 256)       0         \n",
      "_________________________________________________________________\n",
      "conv2d_56 (Conv2D)           (None, 75, 75, 256)       590080    \n",
      "_________________________________________________________________\n",
      "max_pooling2d_19 (MaxPooling (None, 37, 37, 256)       0         \n",
      "_________________________________________________________________\n",
      "zero_padding2d_57 (ZeroPaddi (None, 39, 39, 256)       0         \n",
      "_________________________________________________________________\n",
      "conv2d_57 (Conv2D)           (None, 39, 39, 512)       1180160   \n",
      "_________________________________________________________________\n",
      "zero_padding2d_58 (ZeroPaddi (None, 41, 41, 512)       0         \n",
      "_________________________________________________________________\n",
      "conv2d_58 (Conv2D)           (None, 41, 41, 512)       2359808   \n",
      "_________________________________________________________________\n",
      "zero_padding2d_59 (ZeroPaddi (None, 43, 43, 512)       0         \n",
      "_________________________________________________________________\n",
      "conv2d_59 (Conv2D)           (None, 43, 43, 512)       2359808   \n",
      "_________________________________________________________________\n",
      "zero_padding2d_60 (ZeroPaddi (None, 45, 45, 512)       0         \n",
      "_________________________________________________________________\n",
      "conv2d_60 (Conv2D)           (None, 45, 45, 512)       2359808   \n",
      "_________________________________________________________________\n",
      "max_pooling2d_20 (MaxPooling (None, 22, 22, 512)       0         \n",
      "_________________________________________________________________\n",
      "flatten_5 (Flatten)          (None, 247808)            0         \n",
      "_________________________________________________________________\n",
      "dense_13 (Dense)             (None, 3)                 743427    \n",
      "_________________________________________________________________\n",
      "dropout_9 (Dropout)          (None, 3)                 0         \n",
      "_________________________________________________________________\n",
      "dense_14 (Dense)             (None, 3)                 12        \n",
      "_________________________________________________________________\n",
      "dropout_10 (Dropout)         (None, 3)                 0         \n",
      "_________________________________________________________________\n",
      "dense_15 (Dense)             (None, 3)                 12        \n",
      "=================================================================\n",
      "Total params: 11,237,211\n",
      "Trainable params: 11,237,211\n",
      "Non-trainable params: 0\n",
      "_________________________________________________________________\n"
     ]
    }
   ],
   "source": [
    "model = Model(inputs = img_input, outputs = x)\n",
    "model.compile(optimizer='rmsprop', loss='categorical_crossentropy')\n",
    "model.summary()"
   ]
  },
  {
   "cell_type": "code",
   "execution_count": null,
   "metadata": {
    "scrolled": true
   },
   "outputs": [
    {
     "name": "stdout",
     "output_type": "stream",
     "text": [
      "Using real-time data augmentation.\n"
     ]
    },
    {
     "name": "stderr",
     "output_type": "stream",
     "text": [
      "/Users/EdwardTONG/.pyenv/versions/2.7.13/lib/python2.7/site-packages/keras/preprocessing/image.py:653: UserWarning: Expected input to be images (as Numpy array) following the data format convention \"channels_last\" (channels on axis 3), i.e. expected either 1, 3 or 4 channels on axis 3. However, it was passed an array with shape (221, 256, 256, 2) (2 channels).\n",
      "  ' (' + str(x.shape[self.channel_axis]) + ' channels).')\n"
     ]
    },
    {
     "name": "stdout",
     "output_type": "stream",
     "text": [
      "Epoch 1/1\n",
      " 2/13 [===>..........................] - ETA: 904s - loss: 1.0979 "
     ]
    }
   ],
   "source": [
    "data_augmentation = True\n",
    "\n",
    "if not data_augmentation:\n",
    "    print('Not using data augmentation.')\n",
    "    model.fit(x_train, y_train,\n",
    "              batch_size=batch_size,\n",
    "              epochs=epochs,\n",
    "              validation_data=(x_test, y_test),\n",
    "              shuffle=True)\n",
    "else:\n",
    "    print('Using real-time data augmentation.')\n",
    "    # This will do preprocessing and realtime data augmentation:\n",
    "    datagen = ImageDataGenerator(\n",
    "        featurewise_center=False,  # set input mean to 0 over the dataset\n",
    "        samplewise_center=False,  # set each sample mean to 0\n",
    "        featurewise_std_normalization=False,  # divide inputs by std of the dataset\n",
    "        samplewise_std_normalization=False,  # divide each input by its std\n",
    "        zca_whitening=False,  # apply ZCA whitening\n",
    "        rotation_range=0,  # randomly rotate images in the range (degrees, 0 to 180)\n",
    "        width_shift_range=0.1,  # randomly shift images horizontally (fraction of total width)\n",
    "        height_shift_range=0.1,  # randomly shift images vertically (fraction of total height)\n",
    "        horizontal_flip=True,  # randomly flip images\n",
    "        vertical_flip=False)  # randomly flip images\n",
    "\n",
    "    # Compute quantities required for feature-wise normalization\n",
    "    # (std, mean, and principal components if ZCA whitening is applied).\n",
    "    datagen.fit(x_train)\n",
    "\n",
    "    # Fit the model on the batches generated by datagen.flow().\n",
    "    for _ in range(epochs):\n",
    "        model.fit_generator(datagen.flow(x_train, y_train,\n",
    "                                         batch_size=batch_size),\n",
    "                            steps_per_epoch=x_train.shape[0] // batch_size,\n",
    "                            epochs=1,\n",
    "                            validation_data=(x_test, y_test))\n",
    "        model.evaluate(x=x_test, y=y_test, batch_size=batch_size)"
   ]
  },
  {
   "cell_type": "code",
   "execution_count": null,
   "metadata": {
    "collapsed": true
   },
   "outputs": [],
   "source": []
  }
 ],
 "metadata": {
  "kernelspec": {
   "display_name": "Python 2",
   "language": "python",
   "name": "python2"
  },
  "language_info": {
   "codemirror_mode": {
    "name": "ipython",
    "version": 2
   },
   "file_extension": ".py",
   "mimetype": "text/x-python",
   "name": "python",
   "nbconvert_exporter": "python",
   "pygments_lexer": "ipython2",
   "version": "2.7.13"
  }
 },
 "nbformat": 4,
 "nbformat_minor": 2
}
